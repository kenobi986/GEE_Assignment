{
 "cells": [
  {
   "cell_type": "code",
   "execution_count": 281,
   "id": "feb3786f",
   "metadata": {},
   "outputs": [],
   "source": [
    "import pandas as pd\n",
    "import os\n",
    "import numpy as np\n",
    "import matplotlib.pyplot as plt\n",
    "from sklearn.preprocessing import StandardScaler"
   ]
  },
  {
   "cell_type": "code",
   "execution_count": 282,
   "id": "df72dd5e",
   "metadata": {},
   "outputs": [
    {
     "data": {
      "text/plain": [
       "'E:\\\\Homework'"
      ]
     },
     "execution_count": 282,
     "metadata": {},
     "output_type": "execute_result"
    }
   ],
   "source": [
    "os.getcwd()"
   ]
  },
  {
   "cell_type": "code",
   "execution_count": 283,
   "id": "a0f7857d",
   "metadata": {},
   "outputs": [],
   "source": [
    "#Change to directory that contains the file\n",
    "os.chdir(r\"E:\\Homework\")"
   ]
  },
  {
   "cell_type": "code",
   "execution_count": 284,
   "id": "47460623",
   "metadata": {},
   "outputs": [],
   "source": [
    "#Make pandas datframe\n",
    "df = pd.read_csv(\"Croptype_ML.csv\")"
   ]
  },
  {
   "cell_type": "code",
   "execution_count": 285,
   "id": "2e173a5b",
   "metadata": {},
   "outputs": [
    {
     "name": "stdout",
     "output_type": "stream",
     "text": [
      "         Apr       May       Jun       Jul       Aug       Sep       Oct  \\\n",
      "0   0.192446  0.191327  0.210436  0.265295  0.295329  0.286931  0.288937   \n",
      "1   0.466576  0.599811  0.686571  0.681104  0.618238  0.610079  0.581589   \n",
      "2   0.518384  0.571037  0.600181  0.594809  0.578448  0.575181  0.483160   \n",
      "3   0.170497  0.237880  0.258929  0.278638  0.313335  0.296088  0.213707   \n",
      "4   0.418736  0.518178  0.605978  0.662785  0.659698  0.625166  0.550201   \n",
      "..       ...       ...       ...       ...       ...       ...       ...   \n",
      "75  0.746553  0.758416  0.712478  0.656886  0.611732  0.533305  0.470771   \n",
      "76  0.753838  0.691741  0.670499  0.721311  0.695586  0.503222  0.260167   \n",
      "77  0.830652  0.805342  0.733612  0.678396  0.598218  0.515394  0.488396   \n",
      "78  0.825922  0.795334  0.750655  0.689467  0.621405  0.413176  0.192420   \n",
      "79  0.760352  0.752475  0.622442  0.382554  0.195805  0.196295  0.336552   \n",
      "\n",
      "         Nov       Dec      CropType  \n",
      "0   0.301711  0.314586         apple  \n",
      "1   0.513011  0.466562         apple  \n",
      "2   0.381747  0.318856         apple  \n",
      "3   0.152453  0.130940         apple  \n",
      "4   0.502828  0.482890         apple  \n",
      "..       ...       ...           ...  \n",
      "75  0.471203  0.499713   alfalfa hay  \n",
      "76  0.123146  0.065945   alfalfa hay  \n",
      "77  0.494610  0.492092   alfalfa hay  \n",
      "78  0.113204  0.116690   alfalfa hay  \n",
      "79  0.468200  0.548488  wheat fallow  \n",
      "\n",
      "[80 rows x 10 columns]\n"
     ]
    }
   ],
   "source": [
    "print(df)"
   ]
  },
  {
   "cell_type": "code",
   "execution_count": 286,
   "id": "69280a9f",
   "metadata": {},
   "outputs": [],
   "source": [
    "#Interpolate to fill missing values\n",
    "res = df.interpolate()"
   ]
  },
  {
   "cell_type": "code",
   "execution_count": 287,
   "id": "5b2531a3",
   "metadata": {},
   "outputs": [
    {
     "name": "stdout",
     "output_type": "stream",
     "text": [
      "0    0\n",
      "1    0\n",
      "2    0\n",
      "3    0\n",
      "4    0\n",
      "Name: CropType, dtype: int64\n",
      "Index(['apple', 'fallow', 'potato', 'alfalfa hay', 'wheat fallow'], dtype='object')\n"
     ]
    }
   ],
   "source": [
    "#Factorize the column of croptype\n",
    "factor = pd.factorize(res['CropType'])\n",
    "res.CropType = factor[0]\n",
    "definitions = factor[1]\n",
    "print(res.CropType.head())\n",
    "print(definitions)"
   ]
  },
  {
   "cell_type": "code",
   "execution_count": 288,
   "id": "e0debf64",
   "metadata": {},
   "outputs": [
    {
     "name": "stdout",
     "output_type": "stream",
     "text": [
      "         Apr       May       Jun       Jul       Aug       Sep       Oct  \\\n",
      "0   0.192446  0.191327  0.210436  0.265295  0.295329  0.286931  0.288937   \n",
      "1   0.466576  0.599811  0.686571  0.681104  0.618238  0.610079  0.581589   \n",
      "2   0.518384  0.571037  0.600181  0.594809  0.578448  0.575181  0.483160   \n",
      "3   0.170497  0.237880  0.258929  0.278638  0.313335  0.296088  0.213707   \n",
      "4   0.418736  0.518178  0.605978  0.662785  0.659698  0.625166  0.550201   \n",
      "..       ...       ...       ...       ...       ...       ...       ...   \n",
      "75  0.746553  0.758416  0.712478  0.656886  0.611732  0.533305  0.470771   \n",
      "76  0.753838  0.691741  0.670499  0.721311  0.695586  0.503222  0.260167   \n",
      "77  0.830652  0.805342  0.733612  0.678396  0.598218  0.515394  0.488396   \n",
      "78  0.825922  0.795334  0.750655  0.689467  0.621405  0.413176  0.192420   \n",
      "79  0.760352  0.752475  0.622442  0.382554  0.195805  0.196295  0.336552   \n",
      "\n",
      "         Nov       Dec  CropType  \n",
      "0   0.301711  0.314586         0  \n",
      "1   0.513011  0.466562         0  \n",
      "2   0.381747  0.318856         0  \n",
      "3   0.152453  0.130940         0  \n",
      "4   0.502828  0.482890         0  \n",
      "..       ...       ...       ...  \n",
      "75  0.471203  0.499713         3  \n",
      "76  0.123146  0.065945         3  \n",
      "77  0.494610  0.492092         3  \n",
      "78  0.113204  0.116690         3  \n",
      "79  0.468200  0.548488         4  \n",
      "\n",
      "[80 rows x 10 columns]\n"
     ]
    }
   ],
   "source": [
    "print(res)"
   ]
  },
  {
   "cell_type": "code",
   "execution_count": 289,
   "id": "6f08e41f",
   "metadata": {},
   "outputs": [],
   "source": [
    "#importing the dataset\n",
    "X = res.iloc[:, :-1].values\n",
    "y = res.iloc[:, -1].values"
   ]
  },
  {
   "cell_type": "code",
   "execution_count": 290,
   "id": "ed314b7c",
   "metadata": {},
   "outputs": [
    {
     "name": "stdout",
     "output_type": "stream",
     "text": [
      "[0 0 0 0 0 0 0 0 0 0 0 0 0 0 0 0 0 0 0 0 1 1 1 1 1 1 1 1 1 1 1 1 1 1 1 1 1\n",
      " 1 1 2 2 2 2 2 2 2 2 2 2 2 2 2 2 2 2 2 2 2 2 3 3 3 3 3 3 3 3 3 3 3 3 3 3 3\n",
      " 3 3 3 3 3 4]\n"
     ]
    }
   ],
   "source": [
    "print(y)"
   ]
  },
  {
   "cell_type": "code",
   "execution_count": 291,
   "id": "7f0f7839",
   "metadata": {},
   "outputs": [],
   "source": [
    "#splitting dataset into training and test set\n",
    "from sklearn.model_selection import train_test_split\n",
    "X_train, X_test, y_train, y_test = train_test_split(X, y, test_size = 0.25, random_state = 0)"
   ]
  },
  {
   "cell_type": "code",
   "execution_count": 292,
   "id": "39523216",
   "metadata": {},
   "outputs": [
    {
     "name": "stdout",
     "output_type": "stream",
     "text": [
      "[2 1 1 3 2 3 3 3 2 3 2 3 0 3 2 1 0 1 0 1]\n"
     ]
    }
   ],
   "source": [
    "print(y_test)"
   ]
  },
  {
   "cell_type": "code",
   "execution_count": 293,
   "id": "d2640b04",
   "metadata": {},
   "outputs": [],
   "source": [
    "#Feature scaling\n",
    "from sklearn.preprocessing import StandardScaler\n",
    "sc = StandardScaler()\n",
    "X_train = sc.fit_transform(X_train)\n",
    "X_test = sc.transform(X_test)"
   ]
  },
  {
   "cell_type": "code",
   "execution_count": 294,
   "id": "4b2581b6",
   "metadata": {},
   "outputs": [
    {
     "data": {
      "text/plain": [
       "RandomForestClassifier(criterion='entropy', n_estimators=15, random_state=0)"
      ]
     },
     "execution_count": 294,
     "metadata": {},
     "output_type": "execute_result"
    }
   ],
   "source": [
    "#Training the random forest classification on the training set\n",
    "from sklearn.ensemble import RandomForestClassifier\n",
    "classifier = RandomForestClassifier(n_estimators = 15, criterion = 'entropy', random_state = 0)\n",
    "classifier.fit(X_train, y_train)"
   ]
  },
  {
   "cell_type": "code",
   "execution_count": 295,
   "id": "bdc28f6a",
   "metadata": {},
   "outputs": [
    {
     "name": "stdout",
     "output_type": "stream",
     "text": [
      "[2 1 1 3 2 3 3 3 2 3 2 3 0 3 2 1 0 1 0 1]\n"
     ]
    }
   ],
   "source": [
    "print(y_test)"
   ]
  },
  {
   "cell_type": "code",
   "execution_count": 296,
   "id": "88dd0623",
   "metadata": {},
   "outputs": [],
   "source": [
    "# Predicting the Test set results\n",
    "y_pred = classifier.predict(X_test)"
   ]
  },
  {
   "cell_type": "code",
   "execution_count": 297,
   "id": "7721143f",
   "metadata": {},
   "outputs": [
    {
     "name": "stdout",
     "output_type": "stream",
     "text": [
      "[2 1 1 3 2 3 3 3 2 3 2 3 0 3 2 3 1 1 0 1]\n"
     ]
    }
   ],
   "source": [
    "print(y_pred)"
   ]
  },
  {
   "cell_type": "code",
   "execution_count": 298,
   "id": "f0aa8634",
   "metadata": {},
   "outputs": [
    {
     "name": "stdout",
     "output_type": "stream",
     "text": [
      "[[2 2]\n",
      " [1 1]\n",
      " [1 1]\n",
      " [3 3]\n",
      " [2 2]\n",
      " [3 3]\n",
      " [3 3]\n",
      " [3 3]\n",
      " [2 2]\n",
      " [3 3]\n",
      " [2 2]\n",
      " [3 3]\n",
      " [0 0]\n",
      " [3 3]\n",
      " [2 2]\n",
      " [3 1]\n",
      " [1 0]\n",
      " [1 1]\n",
      " [0 0]\n",
      " [1 1]]\n"
     ]
    }
   ],
   "source": [
    "#making predictions\n",
    "#y_pred = classifier.predict(X_test)\n",
    "print(np.concatenate((y_pred.reshape(len(y_pred),1), y_test.reshape(len(y_test),1)),1))"
   ]
  },
  {
   "cell_type": "code",
   "execution_count": 299,
   "id": "4363f018",
   "metadata": {},
   "outputs": [
    {
     "name": "stdout",
     "output_type": "stream",
     "text": [
      "[[2 1 0 0]\n",
      " [0 4 0 1]\n",
      " [0 0 5 0]\n",
      " [0 0 0 7]]\n"
     ]
    },
    {
     "data": {
      "text/plain": [
       "0.9"
      ]
     },
     "execution_count": 299,
     "metadata": {},
     "output_type": "execute_result"
    }
   ],
   "source": [
    "#displaying confusion_matrix\n",
    "from sklearn.metrics import confusion_matrix, accuracy_score\n",
    "cm = confusion_matrix(y_test, y_pred)\n",
    "print(cm)\n",
    "accuracy_score(y_test, y_pred)"
   ]
  },
  {
   "cell_type": "code",
   "execution_count": null,
   "id": "1d956ea5",
   "metadata": {},
   "outputs": [],
   "source": []
  }
 ],
 "metadata": {
  "kernelspec": {
   "display_name": "Python 3 (ipykernel)",
   "language": "python",
   "name": "python3"
  },
  "language_info": {
   "codemirror_mode": {
    "name": "ipython",
    "version": 3
   },
   "file_extension": ".py",
   "mimetype": "text/x-python",
   "name": "python",
   "nbconvert_exporter": "python",
   "pygments_lexer": "ipython3",
   "version": "3.9.12"
  }
 },
 "nbformat": 4,
 "nbformat_minor": 5
}
