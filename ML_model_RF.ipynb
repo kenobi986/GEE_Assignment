{
 "cells": [
  {
   "cell_type": "code",
   "execution_count": 62,
   "id": "4a3f5969",
   "metadata": {},
   "outputs": [],
   "source": [
    "import pandas as pd\n",
    "import os\n",
    "import numpy as np\n",
    "import matplotlib.pyplot as plt"
   ]
  },
  {
   "cell_type": "code",
   "execution_count": 63,
   "id": "1b026378",
   "metadata": {},
   "outputs": [
    {
     "data": {
      "text/plain": [
       "'C:\\\\Users\\\\shafik.kiraga\\\\Desktop'"
      ]
     },
     "execution_count": 63,
     "metadata": {},
     "output_type": "execute_result"
    }
   ],
   "source": [
    "os.getcwd()"
   ]
  },
  {
   "cell_type": "code",
   "execution_count": 64,
   "id": "e4d48676",
   "metadata": {},
   "outputs": [],
   "source": [
    "df = pd.read_csv(\"Croptype_ML.csv\")"
   ]
  },
  {
   "cell_type": "code",
   "execution_count": 65,
   "id": "603702fb",
   "metadata": {},
   "outputs": [
    {
     "name": "stdout",
     "output_type": "stream",
     "text": [
      "         Apr       May       Jun       Jul       Aug       Sep       Oct  \\\n",
      "0   0.192446  0.191327  0.210436  0.265295  0.295329  0.286931  0.288937   \n",
      "1   0.466576  0.599811  0.686571  0.681104  0.618238  0.610079  0.581589   \n",
      "2   0.518384  0.571037  0.600181  0.594809  0.578448  0.575181  0.483160   \n",
      "3   0.170497  0.237880  0.258929  0.278638  0.313335  0.296088  0.213707   \n",
      "4   0.418736  0.518178  0.605978  0.662785  0.659698  0.625166  0.550201   \n",
      "..       ...       ...       ...       ...       ...       ...       ...   \n",
      "75  0.746553  0.758416  0.712478  0.656886  0.611732  0.533305  0.470771   \n",
      "76  0.753838  0.691741  0.670499  0.721311  0.695586  0.503222  0.260167   \n",
      "77  0.830652  0.805342  0.733612  0.678396  0.598218  0.515394  0.488396   \n",
      "78  0.825922  0.795334  0.750655  0.689467  0.621405  0.413176  0.192420   \n",
      "79  0.760352  0.752475  0.622442  0.382554  0.195805  0.196295  0.336552   \n",
      "\n",
      "         Nov       Dec      CropType  \n",
      "0   0.301711  0.314586         apple  \n",
      "1   0.513011  0.466562         apple  \n",
      "2   0.381747  0.318856         apple  \n",
      "3   0.152453  0.130940         apple  \n",
      "4   0.502828  0.482890         apple  \n",
      "..       ...       ...           ...  \n",
      "75  0.471203  0.499713   alfalfa hay  \n",
      "76  0.123146  0.065945   alfalfa hay  \n",
      "77  0.494610  0.492092   alfalfa hay  \n",
      "78  0.113204  0.116690   alfalfa hay  \n",
      "79  0.468200  0.548488  wheat fallow  \n",
      "\n",
      "[80 rows x 10 columns]\n"
     ]
    }
   ],
   "source": [
    "print(df)"
   ]
  },
  {
   "cell_type": "code",
   "execution_count": 66,
   "id": "ae54dd45",
   "metadata": {},
   "outputs": [],
   "source": [
    "res = df.interpolate()"
   ]
  },
  {
   "cell_type": "code",
   "execution_count": 67,
   "id": "0a24724d",
   "metadata": {},
   "outputs": [],
   "source": [
    "#importing the dataset\n",
    "X = res.iloc[:, :-1].values\n",
    "y = res.iloc[:, -1].values"
   ]
  },
  {
   "cell_type": "code",
   "execution_count": 68,
   "id": "6bc68905",
   "metadata": {},
   "outputs": [],
   "source": [
    "#splitting dataset into training and test set\n",
    "from sklearn.model_selection import train_test_split\n",
    "X_train, X_test, y_train, y_test = train_test_split(X, y, test_size = 0.25, random_state = 0)"
   ]
  },
  {
   "cell_type": "code",
   "execution_count": 69,
   "id": "ceb78b05",
   "metadata": {},
   "outputs": [
    {
     "name": "stdout",
     "output_type": "stream",
     "text": [
      "['potato' 'fallow' 'fallow' 'alfalfa hay' 'potato' 'alfalfa hay'\n",
      " 'alfalfa hay' 'alfalfa hay' 'potato' 'alfalfa hay' 'potato' 'alfalfa hay'\n",
      " 'apple' 'alfalfa hay' 'potato' 'fallow' 'apple' 'fallow' 'apple' 'fallow']\n"
     ]
    }
   ],
   "source": [
    "print(y_test)"
   ]
  },
  {
   "cell_type": "code",
   "execution_count": 70,
   "id": "01af23e0",
   "metadata": {},
   "outputs": [],
   "source": [
    "#Feature scaling\n",
    "from sklearn.preprocessing import StandardScaler\n",
    "sc = StandardScaler()\n",
    "X_train = sc.fit_transform(X_train)\n",
    "X_test = sc.transform(X_test)"
   ]
  },
  {
   "cell_type": "code",
   "execution_count": 71,
   "id": "b8ee20fe",
   "metadata": {},
   "outputs": [
    {
     "data": {
      "text/plain": [
       "RandomForestClassifier(criterion='entropy', n_estimators=10, random_state=0)"
      ]
     },
     "execution_count": 71,
     "metadata": {},
     "output_type": "execute_result"
    }
   ],
   "source": [
    "#Training the random forest classification on the training set\n",
    "from sklearn.ensemble import RandomForestClassifier\n",
    "classifier = RandomForestClassifier(n_estimators = 10, criterion = 'entropy', random_state = 0)\n",
    "classifier.fit(X_train, y_train)"
   ]
  },
  {
   "cell_type": "code",
   "execution_count": 72,
   "id": "98a073f2",
   "metadata": {},
   "outputs": [
    {
     "name": "stdout",
     "output_type": "stream",
     "text": [
      "[['potato' 'potato']\n",
      " ['fallow' 'fallow']\n",
      " ['fallow' 'fallow']\n",
      " ['alfalfa hay' 'alfalfa hay']\n",
      " ['potato' 'potato']\n",
      " ['alfalfa hay' 'alfalfa hay']\n",
      " ['fallow' 'alfalfa hay']\n",
      " ['alfalfa hay' 'alfalfa hay']\n",
      " ['potato' 'potato']\n",
      " ['alfalfa hay' 'alfalfa hay']\n",
      " ['potato' 'potato']\n",
      " ['alfalfa hay' 'alfalfa hay']\n",
      " ['apple' 'apple']\n",
      " ['alfalfa hay' 'alfalfa hay']\n",
      " ['potato' 'potato']\n",
      " ['alfalfa hay' 'fallow']\n",
      " ['fallow' 'apple']\n",
      " ['fallow' 'fallow']\n",
      " ['apple' 'apple']\n",
      " ['fallow' 'fallow']]\n"
     ]
    }
   ],
   "source": [
    "#making predictions\n",
    "y_pred = classifier.predict(X_test)\n",
    "print(np.concatenate((y_pred.reshape(len(y_pred),1), y_test.reshape(len(y_test),1)),1))"
   ]
  },
  {
   "cell_type": "code",
   "execution_count": 73,
   "id": "1f9b3739",
   "metadata": {},
   "outputs": [
    {
     "name": "stdout",
     "output_type": "stream",
     "text": [
      "[[6 0 1 0]\n",
      " [0 2 1 0]\n",
      " [1 0 4 0]\n",
      " [0 0 0 5]]\n"
     ]
    },
    {
     "data": {
      "text/plain": [
       "0.85"
      ]
     },
     "execution_count": 73,
     "metadata": {},
     "output_type": "execute_result"
    }
   ],
   "source": [
    "#displaying confusion_matrix\n",
    "from sklearn.metrics import confusion_matrix, accuracy_score\n",
    "cm = confusion_matrix(y_test, y_pred)\n",
    "print(cm)\n",
    "accuracy_score(y_test, y_pred)"
   ]
  }
 ],
 "metadata": {
  "kernelspec": {
   "display_name": "Python 3 (ipykernel)",
   "language": "python",
   "name": "python3"
  },
  "language_info": {
   "codemirror_mode": {
    "name": "ipython",
    "version": 3
   },
   "file_extension": ".py",
   "mimetype": "text/x-python",
   "name": "python",
   "nbconvert_exporter": "python",
   "pygments_lexer": "ipython3",
   "version": "3.9.12"
  }
 },
 "nbformat": 4,
 "nbformat_minor": 5
}
